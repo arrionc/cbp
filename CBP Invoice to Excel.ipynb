{
 "cells": [
  {
   "cell_type": "code",
   "execution_count": 1,
   "metadata": {},
   "outputs": [],
   "source": [
    "import os\n",
    "import re\n",
    "import fitz\n",
    "import pandas as pd"
   ]
  },
  {
   "cell_type": "code",
   "execution_count": 3,
   "metadata": {},
   "outputs": [
    {
     "name": "stdout",
     "output_type": "stream",
     "text": [
      "         Statement Process Date   Entry Number Ref Number      TP  \\\n",
      "0    DST042519902D      7/18/25  237-3171276-8    3171276  03 BCA   \n",
      "1    DST132521001R      7/29/25  237-3171188-5    3171188  03 BCA   \n",
      "2    DST132521001R      7/29/25  237-3171262-8    3171262  03 BCA   \n",
      "3    DST132521001R      7/29/25  237-3171273-5    3171273  03 BCA   \n",
      "4    DST1325211025      7/30/25  237-3171282-6    3171282  03 BCA   \n",
      "..             ...          ...            ...        ...     ...   \n",
      "113  DST522521103M      7/30/25  237-3171528-2    3171528  03 BCA   \n",
      "114  DST532519804E      7/17/25  237-3170964-0    3170964  03 BCA   \n",
      "115  DST532519804E      7/17/25  237-3170967-3    3170967  03 BCA   \n",
      "116  DST532521105G      7/30/25  237-3171181-0    3171181  03 BCA   \n",
      "117  DST532521105G      7/30/25  237-3171268-5    3171268  03 BCA   \n",
      "\n",
      "     Estimated Duty  User Fees/Interest  Total Amount  \n",
      "0            2482.7              117.04       2599.74  \n",
      "1            3614.2              170.37       3784.57  \n",
      "2            6632.0              309.37       6941.37  \n",
      "3            2738.6              129.11       2867.71  \n",
      "4            3615.9              170.47       3786.37  \n",
      "..              ...                 ...           ...  \n",
      "113          3898.3              183.77       4082.07  \n",
      "114          3857.7              181.85       4039.55  \n",
      "115          2366.5              111.56       2478.06  \n",
      "116          2664.8              125.61       2790.41  \n",
      "117          2980.7              140.51       3121.21  \n",
      "\n",
      "[118 rows x 8 columns]\n",
      "\n",
      "✓ 118 rows written to c:\\Users\\ACarrion\\OneDrive - F.lli De Cecco di Filippo Fara San Martino S.p.A\\Documents\\Logistics Invoicing\\CBP\\Daily Statements_tool\\dst_statements.xlsx\n"
     ]
    }
   ],
   "source": [
    "PDF_DIR = r'G:\\ACCOUNT PAYABLE\\001 - INVOICES - FATTURE\\LOGISTIC INVOICES\\1- NEW\\BRUZZONE DIRECT PAY DUTY STATEMENTS' \n",
    "PDFS    = [f for f in os.listdir(PDF_DIR) if f.startswith(\"DST\") and f.endswith(\".pdf\")]\n",
    "output_path = r'c:\\Users\\ACarrion\\OneDrive - F.lli De Cecco di Filippo Fara San Martino S.p.A\\Documents\\Logistics Invoicing\\CBP\\Daily Statements_tool'\n",
    "\n",
    "#  Entry row pattern – tolerant of new-lines\n",
    "entry_rx = re.compile(\n",
    "    r\"\"\"(?P<duty>\\d{1,3}(?:,\\d{3})*\\.\\d{2})\\s+        # Estimated Duty\n",
    "        0\\.00\\s+0\\.00\\s+0\\.00\\s+                      # three literal 0.00 columns\n",
    "        (?P<fees>\\d{1,3}(?:,\\d{3})*\\.\\d{2})\\s+        # User Fees / Interest\n",
    "        (?P<total>\\d{1,3}(?:,\\d{3})*\\.\\d{2})\\s+       # Total Amount\n",
    "        (?P<entry>\\d{3}[-–]\\d+[-–]\\d)\\s+              # Entry number (dash or en-dash)\n",
    "        (?P<ref>\\d+)\\s+                               # Ref number\n",
    "        (?P<tp>\\d{2}\\s+\\w+)                           # TP code (“03 BCA”)\n",
    "    \"\"\",\n",
    "    re.MULTILINE | re.VERBOSE,\n",
    ")\n",
    "\n",
    "date_rx  = re.compile(r\"Process Date:\\s*([0-9/]+)\")\n",
    "\n",
    "def money(txt: str) -> float:\n",
    "    \"\"\"'7,124.50' → 7124.50   '181.25' → 181.25\"\"\"\n",
    "    return float(txt.replace(\",\", \"\"))\n",
    "\n",
    "rows = []\n",
    "\n",
    "for pdf in PDFS:\n",
    "    path  = os.path.join(PDF_DIR, pdf)\n",
    "    with fitz.open(path) as doc:\n",
    "        text = \"\\n\".join(p.get_text() for p in doc)\n",
    "\n",
    "    # Extract Process Date once per file\n",
    "    md = date_rx.search(text)\n",
    "    proc_date = md.group(1) if md else \"\"\n",
    "\n",
    "    # Find every entry block (some PDFs have 2+ entries)\n",
    "    for m in entry_rx.finditer(text):\n",
    "        rows.append({\n",
    "            \"Statement\"          : pdf[:-4],                 # file name minus .pdf\n",
    "            \"Process Date\"       : proc_date,\n",
    "            \"Entry Number\"       : m[\"entry\"],\n",
    "            \"Ref Number\"         : m[\"ref\"],\n",
    "            \"TP\"                 : m[\"tp\"].replace(\"\\n\", \" \"),\n",
    "            \"Estimated Duty\"     : money(m[\"duty\"]),\n",
    "            \"User Fees/Interest\" : money(m[\"fees\"]),\n",
    "            \"Total Amount\"       : money(m[\"total\"]),\n",
    "        })\n",
    "\n",
    "# → DataFrame + Excel\n",
    "df = pd.DataFrame(rows)\n",
    "print(df)                              # sanity-check in the console\n",
    "outfile = os.path.join(output_path, \"dst_statements.xlsx\")\n",
    "df.to_excel(outfile, index=False)\n",
    "print(f\"\\n✓ {len(df)} rows written to {outfile}\")"
   ]
  },
  {
   "cell_type": "code",
   "execution_count": 4,
   "metadata": {},
   "outputs": [
    {
     "name": "stdout",
     "output_type": "stream",
     "text": [
      "  Ref Number   PO Number\n",
      "0    3166472  4500195790\n",
      "1    3166474  4500200541\n",
      "2    3166512  4500200436\n",
      "3    3166607  4500200323\n",
      "4    3166609  4500200831\n"
     ]
    }
   ],
   "source": [
    "\n",
    "# Load Bruzzone combined customs file \n",
    "bruzzone_file = r'c:\\Users\\ACarrion\\OneDrive - F.lli De Cecco di Filippo Fara San Martino S.p.A\\Documents\\Logistics Invoicing\\Bruzzone\\2025-YTD-Consolidated-Invoices for CBP.xlsx'\n",
    "df_customs = pd.read_excel(bruzzone_file)\n",
    "\n",
    "# Extract base reference from 'Bruzzone Invoice No.'\n",
    "df_customs['Ref Number'] = df_customs['Bruzzone Invoice No.'].astype(str).str.extract(r'(^\\d+)')\n",
    "\n",
    "# Select only the PO columns\n",
    "po_cols = [col for col in df_customs.columns if col.startswith('Customer Ref')]\n",
    "\n",
    "# Melt/unpivot to stack POs vertically\n",
    "df_pivoted = df_customs[['Ref Number'] + po_cols].melt(\n",
    "    id_vars= 'Ref Number',\n",
    "    value_vars = po_cols,\n",
    "    value_name = 'PO Number'\n",
    ")\n",
    "\n",
    "# Drop blanks and duplicates\n",
    "df_cleaned = df_pivoted.dropna(subset=['PO Number']).drop_duplicates()\n",
    "\n",
    "# Reset index for a clean final table\n",
    "df_cleaned = df_cleaned[['Ref Number', 'PO Number']].reset_index(drop=True)\n",
    "\n",
    "print (df_cleaned.head())"
   ]
  },
  {
   "cell_type": "code",
   "execution_count": 8,
   "metadata": {},
   "outputs": [],
   "source": [
    "# Merge CBP and Bruzzone for PO info\n",
    "df_merge = df.merge(df_cleaned, on='Ref Number', how='left')\n",
    "df_merge.columns\n",
    "df_merge = df_merge[['Statement', 'Process Date', 'Entry Number', 'Ref Number', 'PO Number', 'Estimated Duty', 'User Fees/Interest', 'Total Amount']]\n",
    "df_merge.to_excel('test.xlsx', index=False)"
   ]
  }
 ],
 "metadata": {
  "kernelspec": {
   "display_name": "base",
   "language": "python",
   "name": "python3"
  },
  "language_info": {
   "codemirror_mode": {
    "name": "ipython",
    "version": 3
   },
   "file_extension": ".py",
   "mimetype": "text/x-python",
   "name": "python",
   "nbconvert_exporter": "python",
   "pygments_lexer": "ipython3",
   "version": "3.12.4"
  }
 },
 "nbformat": 4,
 "nbformat_minor": 2
}
